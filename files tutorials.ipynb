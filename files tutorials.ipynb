{
 "cells": [
  {
   "cell_type": "markdown",
   "id": "473ee8de",
   "metadata": {},
   "source": [
    "# files"
   ]
  },
  {
   "cell_type": "markdown",
   "id": "3d2c3f15",
   "metadata": {},
   "source": [
    "# data reading from the file"
   ]
  },
  {
   "cell_type": "code",
   "execution_count": null,
   "id": "5284ff3f",
   "metadata": {},
   "outputs": [],
   "source": [
    "fd = open('Desktop/Arif.txt','r')\n",
    "txt=fd.read()\n",
    "print(txt)\n",
    "\n",
    "fd.close()"
   ]
  },
  {
   "cell_type": "markdown",
   "id": "f27d58a1",
   "metadata": {},
   "source": [
    "# Reading Data from Text-file Corpus."
   ]
  },
  {
   "cell_type": "markdown",
   "id": "e92c35e3",
   "metadata": {},
   "source": [
    "corpus = Corpora is a group presenting multiple collections of text documents."
   ]
  },
  {
   "cell_type": "markdown",
   "id": "c73519d4",
   "metadata": {},
   "source": [
    "replace() = replace function is used when we have to change sonmething than it is used"
   ]
  },
  {
   "cell_type": "code",
   "execution_count": 34,
   "id": "850c4379",
   "metadata": {},
   "outputs": [],
   "source": [
    "fr = open('Desktop/aaa.txt','r')\n",
    "txt=fr.read()\n",
    "fr.close()\n"
   ]
  },
  {
   "cell_type": "code",
   "execution_count": null,
   "id": "777acd6c",
   "metadata": {},
   "outputs": [],
   "source": [
    "print(txt)"
   ]
  },
  {
   "cell_type": "code",
   "execution_count": null,
   "id": "ce329461",
   "metadata": {},
   "outputs": [],
   "source": [
    "txt"
   ]
  },
  {
   "cell_type": "markdown",
   "id": "dc0ccc7b",
   "metadata": {},
   "source": [
    "# Text Preprocessing"
   ]
  },
  {
   "cell_type": "markdown",
   "id": "589b565b",
   "metadata": {},
   "source": [
    "split() = it is used to split the data by passing am argument from which we want to splt"
   ]
  },
  {
   "cell_type": "code",
   "execution_count": 37,
   "id": "4dd50d26",
   "metadata": {},
   "outputs": [],
   "source": [
    "pa = txt.split('\\n\\n')"
   ]
  },
  {
   "cell_type": "code",
   "execution_count": null,
   "id": "5cdfa44c",
   "metadata": {},
   "outputs": [],
   "source": [
    "print(pa)"
   ]
  },
  {
   "cell_type": "markdown",
   "id": "2748d478",
   "metadata": {},
   "source": [
    "# paragraph\n"
   ]
  },
  {
   "cell_type": "code",
   "execution_count": 39,
   "id": "5f6c614b",
   "metadata": {},
   "outputs": [
    {
     "name": "stdout",
     "output_type": "stream",
     "text": [
      "5\n"
     ]
    }
   ],
   "source": [
    "pa = txt.split('\\n\\n')\n",
    "print(len(pa))"
   ]
  },
  {
   "cell_type": "markdown",
   "id": "ea94cbf5",
   "metadata": {},
   "source": [
    "# line"
   ]
  },
  {
   "cell_type": "code",
   "execution_count": null,
   "id": "e8731048",
   "metadata": {},
   "outputs": [],
   "source": [
    "line=txt.split('.')"
   ]
  },
  {
   "cell_type": "markdown",
   "id": "5b677275",
   "metadata": {},
   "source": [
    "# words"
   ]
  },
  {
   "cell_type": "code",
   "execution_count": 42,
   "id": "095501ff",
   "metadata": {},
   "outputs": [],
   "source": [
    "word=txt.split(' ')"
   ]
  },
  {
   "cell_type": "code",
   "execution_count": 45,
   "id": "a8247796",
   "metadata": {},
   "outputs": [
    {
     "data": {
      "text/plain": [
       "385"
      ]
     },
     "execution_count": 45,
     "metadata": {},
     "output_type": "execute_result"
    }
   ],
   "source": [
    "len(word)"
   ]
  },
  {
   "cell_type": "markdown",
   "id": "25965609",
   "metadata": {},
   "source": [
    "# Advance Text Preprocessing"
   ]
  },
  {
   "cell_type": "code",
   "execution_count": null,
   "id": "0f67a474",
   "metadata": {},
   "outputs": [],
   "source": [
    "print(txt)"
   ]
  },
  {
   "cell_type": "markdown",
   "id": "0486b2d1",
   "metadata": {},
   "source": [
    "print(txt.replace('5',' '))"
   ]
  },
  {
   "cell_type": "markdown",
   "id": "f99268cd",
   "metadata": {},
   "source": [
    "# replace number from the paragraph"
   ]
  },
  {
   "cell_type": "code",
   "execution_count": 56,
   "id": "ea3e0516",
   "metadata": {},
   "outputs": [],
   "source": [
    "i=5\n",
    "for i in range(5,19):\n",
    "    pattern='['+str(i)+']'\n",
    "    txt= txt.replace(pattern,'')\n",
    "    \n",
    "   "
   ]
  },
  {
   "cell_type": "markdown",
   "id": "5be92a1c",
   "metadata": {},
   "source": [
    "print(txt)"
   ]
  },
  {
   "cell_type": "markdown",
   "id": "5c4d992f",
   "metadata": {},
   "source": [
    "# replace special symbol"
   ]
  },
  {
   "cell_type": "code",
   "execution_count": 60,
   "id": "80602c2b",
   "metadata": {},
   "outputs": [],
   "source": [
    "for i in \"!@#$%^\":\n",
    "    txt=txt.replace(i,'')"
   ]
  },
  {
   "cell_type": "markdown",
   "id": "41c30fc9",
   "metadata": {},
   "source": [
    "print(txt)"
   ]
  },
  {
   "cell_type": "markdown",
   "id": "3149064d",
   "metadata": {},
   "source": [
    "# Writing Data on a text-file"
   ]
  },
  {
   "cell_type": "markdown",
   "id": "639acabc",
   "metadata": {},
   "source": [
    "# creat a file"
   ]
  },
  {
   "cell_type": "code",
   "execution_count": 62,
   "id": "3e463ad3",
   "metadata": {},
   "outputs": [],
   "source": [
    "fd = open('Desktop/data.txt','w') \n",
    "fd.close()"
   ]
  },
  {
   "cell_type": "markdown",
   "id": "67722794",
   "metadata": {},
   "source": [
    "# write in the file"
   ]
  },
  {
   "cell_type": "code",
   "execution_count": 64,
   "id": "88284371",
   "metadata": {},
   "outputs": [],
   "source": [
    "fd = open('Desktop/data.txt','w') \n",
    "fd.write('hello all welcome to gfg')\n",
    "fd.close()"
   ]
  },
  {
   "cell_type": "markdown",
   "id": "d013f316",
   "metadata": {},
   "source": [
    "# using apend mode 'a'"
   ]
  },
  {
   "cell_type": "code",
   "execution_count": 66,
   "id": "ca998c0a",
   "metadata": {},
   "outputs": [],
   "source": [
    "fd = open('Desktop/data.txt','a') \n",
    "fd.write(' and i m student.')\n",
    "fd.close()"
   ]
  },
  {
   "cell_type": "markdown",
   "id": "90d3e6bb",
   "metadata": {},
   "source": [
    "# Writing Data on a text-file with New Line"
   ]
  },
  {
   "cell_type": "code",
   "execution_count": 68,
   "id": "830cbc75",
   "metadata": {},
   "outputs": [],
   "source": [
    "fd = open('Desktop/data.txt','w') \n",
    "fd.write('hello all welcome to gfg\\n and i m student.')\n",
    "fd.close()"
   ]
  },
  {
   "cell_type": "code",
   "execution_count": null,
   "id": "9892cca0",
   "metadata": {},
   "outputs": [],
   "source": []
  }
 ],
 "metadata": {
  "kernelspec": {
   "display_name": "Python 3 (ipykernel)",
   "language": "python",
   "name": "python3"
  },
  "language_info": {
   "codemirror_mode": {
    "name": "ipython",
    "version": 3
   },
   "file_extension": ".py",
   "mimetype": "text/x-python",
   "name": "python",
   "nbconvert_exporter": "python",
   "pygments_lexer": "ipython3",
   "version": "3.10.9"
  }
 },
 "nbformat": 4,
 "nbformat_minor": 5
}
